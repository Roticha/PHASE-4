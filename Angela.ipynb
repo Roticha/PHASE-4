{
 "cells": [
  {
   "cell_type": "markdown",
   "metadata": {},
   "source": [
    "## BUSINESS UNDERSTANDING\n",
    "The task is to build a reccomendtion system for a movies platform- MOVIES101\n",
    "The goal is to enhance user engagement by offering personalized movie recommendations. \n",
    "This can be approached using these three key methods:\n",
    "\n",
    "Collaborative Filtering:\n",
    "\n",
    "User-Based: Suggests movies by finding users with similar tastes and recommending content they've enjoyed.\n",
    "Item-Based: Recommend movies based on the similarity between movies the user has already watched.\n",
    "Matrix Factorization: Use techniques like Singular Value Decomposition (SVD) to uncover hidden patterns in user-movie interactions, helping to recommend movies based on these learned patterns.\n",
    "\n",
    "Content-Based Filtering:\n",
    "\n",
    "Focuses on the attributes of movies (such as genres, actors, and directors) to recommend content similar to what the user has liked in the past. Methods like TF-IDF (term frequency-inverse document frequency) can help analyze textual data like descriptions or tags associated with the movies.\n",
    "\n",
    "Hybrid Methods:\n",
    "\n",
    "Combines collaborative and content-based filtering to create a more comprehensive recommendation system. This approach can balance the strengths of both methods, ensuring users receive diverse and relevant movie suggestions.\n",
    "\n",
    "By leveraging these strategies, MOVIE101 can deliver personalized recommendations that boost user satisfaction and increase viewing time."
   ]
  },
  {
   "cell_type": "markdown",
   "metadata": {},
   "source": [
    "## OBJECTIVES\n",
    "1. Build a Model for Top 5 Recommendations:\n",
    "\n",
    "-Use collaborative filtering (e.g., matrix factorization techniques like SVD) or deep learning models (e.g., neural collaborative filtering) to predict the ratings a user would give to movies.\n",
    "\n",
    "-Sort the predicted ratings for each user and recommend the top 5 movies that have not been watched yet.\n",
    "\n",
    "2. Tackle the Cold Start Issue for New Users:\n",
    "\n",
    "-Content-Based Recommendations: For new users, recommend movies based on their stated preferences (e.g., genre, actors) by using content-based filtering.\n",
    "\n",
    "-Popular Movies: Suggest currently trending or highly rated movies as initial recommendations until the system gathers more user data.\n",
    "\n",
    "-Hybrid Approach: Combine popular and content-based recommendations to ensure relevancy when user data is scarce.\n",
    "\n",
    "3. Improve Precision and Relevance:\n",
    "\n",
    "-Implement a Hybrid Recommendation System combining both collaborative and content-based filtering to deliver more personalized suggestions.\n",
    "\n",
    "-Use advanced models like Factorization Machines or Autoencoders to capture complex interactions between users and items for more precise recommendations.\n",
    "\n",
    "4. Evaluate the System’s Performance:\n",
    "\n",
    "-Use Root Mean Squared Error (RMSE) to evaluate the accuracy of predicted ratings compared to actual user ratings.\n",
    "\n",
    "-Additionally, evaluate performance using Precision@K, Recall@K, and F1 Score to measure how relevant and precise the top 5 recommendations are.\n",
    "\n",
    "5. Feedback Mechanism:\n",
    "\n",
    "-Implement a feature that allows users to rate the recommendations they receive.\n",
    "\n",
    "-Use this feedback to adjust the model, such as by reweighting similar movies or users based on the user's rating patterns, refining future recommendations."
   ]
  },
  {
   "cell_type": "markdown",
   "metadata": {},
   "source": [
    "## DATA UNDERSTANDING\n",
    "### DATA SOURCES\n",
    "The project utilizes the MovieLens dataset (https://grouplens.org/datasets/movielens/latest/) from the GroupLens research lab at the University of Minnesota. Given the constraints on computational resources, we're working with the \"small\" dataset, which includes 100,000 user ratings."
   ]
  },
  {
   "cell_type": "markdown",
   "metadata": {},
   "source": [
    "### DATA DESCRIPTION\n",
    "There are a number of csv files available with different columns in the Data file. \n",
    "\n",
    "\n",
    "movies.csv\n",
    "\n",
    "movieId - Unique identifier for each movie.\n",
    "\n",
    "title - The movie titles.\n",
    "\n",
    "genre - The various genres a movie falls into.\n",
    "\n",
    "\n",
    "ratings.csv\n",
    "\n",
    "userId - Unique identifier for each user\n",
    "\n",
    "movieId - Unique identifier for each movie.\n",
    "\n",
    "rating - A value between 0 to 5 that a user rates a movie on. 5 is the highest while 0 is the lowest rating.\n",
    "\n",
    "timestamp - This are the seconds that have passed since Midnight January 1, 1970(UTC)\n",
    "\n",
    "\n",
    "tags.csv\n",
    "\n",
    "userId - Unique identifier for each user\n",
    "\n",
    "movieId - Unique identifier for each movie.\n",
    "\n",
    "tag - A phrase determined by the user.\n",
    "\n",
    "timestamp - This are the seconds that have passed since Midnight January 1, 1970(UTC)\n",
    "\n",
    "\n",
    "links.csv\n",
    "\n",
    "movieId - It's an identifier for movies used by https://movielens.org and has link to each movie.\n",
    "\n",
    "imdbId - It's an identifier for movies used by http://www.imdb.com and has link to each movie.\n",
    "\n",
    "tmdbId - is an identifier for movies used by https://www.themoviedb.org and has link to each movie."
   ]
  },
  {
   "cell_type": "code",
   "execution_count": 19,
   "metadata": {},
   "outputs": [],
   "source": [
    "## Loading libraries\n",
    "# Import Libraries\n",
    "import pandas as pd\n",
    "import numpy as np\n",
    "np.int = int\n",
    "import matplotlib.pyplot as plt\n",
    "import seaborn as sns\n",
    "%matplotlib inline\n",
    "\n",
    "from IPython.display import display, HTML\n"
   ]
  },
  {
   "cell_type": "code",
   "execution_count": 20,
   "metadata": {},
   "outputs": [],
   "source": [
    "file_path = r\"C:\\Users\\PC\\Documents\\Flatiron\\dsc-data-science-env-config\\Project_phase_4\\links.csv\"\n",
    "links_df = pd.read_csv(file_path)\n",
    "\n",
    "file_path = r\"C:\\Users\\PC\\Documents\\Flatiron\\dsc-data-science-env-config\\Project_phase_4\\movies.csv\"\n",
    "movies_df = pd.read_csv(file_path)\n",
    "\n",
    "file_path = r\"C:\\Users\\PC\\Documents\\Flatiron\\dsc-data-science-env-config\\Project_phase_4\\ratings.csv\"\n",
    "ratings_df = pd.read_csv(file_path)\n",
    "\n",
    "file_path = r\"C:\\Users\\PC\\Documents\\Flatiron\\dsc-data-science-env-config\\Project_phase_4\\tags.csv\"\n",
    "tags_df = pd.read_csv(file_path)\n"
   ]
  }
 ],
 "metadata": {
  "language_info": {
   "name": "python"
  }
 },
 "nbformat": 4,
 "nbformat_minor": 2
}

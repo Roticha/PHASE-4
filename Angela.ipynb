{
 "cells": [
  {
   "cell_type": "markdown",
   "metadata": {},
   "source": [
    "## BUSINESS UNDERSTANDING\n",
    "The task is to build a reccomendtion system for a movies platform- MOVIES101\n",
    "The goal is to enhance user engagement by offering personalized movie recommendations. \n",
    "This can be approached using these three key methods:\n",
    "\n",
    "Collaborative Filtering:\n",
    "\n",
    "User-Based: Suggests movies by finding users with similar tastes and recommending content they've enjoyed.\n",
    "Item-Based: Recommend movies based on the similarity between movies the user has already watched.\n",
    "Matrix Factorization: Use techniques like Singular Value Decomposition (SVD) to uncover hidden patterns in user-movie interactions, helping to recommend movies based on these learned patterns.\n",
    "\n",
    "Content-Based Filtering:\n",
    "\n",
    "Focuses on the attributes of movies (such as genres, actors, and directors) to recommend content similar to what the user has liked in the past. Methods like TF-IDF (term frequency-inverse document frequency) can help analyze textual data like descriptions or tags associated with the movies.\n",
    "\n",
    "Hybrid Methods:\n",
    "\n",
    "Combines collaborative and content-based filtering to create a more comprehensive recommendation system. This approach can balance the strengths of both methods, ensuring users receive diverse and relevant movie suggestions.\n",
    "\n",
    "By leveraging these strategies, MOVIE101 can deliver personalized recommendations that boost user satisfaction and increase viewing time."
   ]
  },
  {
   "cell_type": "markdown",
   "metadata": {},
   "source": [
    "## OBJECTIVES\n",
    "1. Build a Model for Top 5 Recommendations:\n",
    "\n",
    "-Use collaborative filtering (e.g., matrix factorization techniques like SVD) or deep learning models (e.g., neural collaborative filtering) to predict the ratings a user would give to movies.\n",
    "\n",
    "-Sort the predicted ratings for each user and recommend the top 5 movies that have not been watched yet.\n",
    "\n",
    "2. Tackle the Cold Start Issue for New Users:\n",
    "\n",
    "-Content-Based Recommendations: For new users, recommend movies based on their stated preferences (e.g., genre, actors) by using content-based filtering.\n",
    "\n",
    "-Popular Movies: Suggest currently trending or highly rated movies as initial recommendations until the system gathers more user data.\n",
    "\n",
    "-Hybrid Approach: Combine popular and content-based recommendations to ensure relevancy when user data is scarce.\n",
    "\n",
    "3. Improve Precision and Relevance:\n",
    "\n",
    "-Implement a Hybrid Recommendation System combining both collaborative and content-based filtering to deliver more personalized suggestions.\n",
    "\n",
    "-Use advanced models like Factorization Machines or Autoencoders to capture complex interactions between users and items for more precise recommendations.\n",
    "\n",
    "4. Evaluate the System’s Performance:\n",
    "\n",
    "-Use Root Mean Squared Error (RMSE) to evaluate the accuracy of predicted ratings compared to actual user ratings.\n",
    "\n",
    "-Additionally, evaluate performance using Precision@K, Recall@K, and F1 Score to measure how relevant and precise the top 5 recommendations are.\n",
    "\n",
    "5. Feedback Mechanism:\n",
    "\n",
    "-Implement a feature that allows users to rate the recommendations they receive.\n",
    "\n",
    "-Use this feedback to adjust the model, such as by reweighting similar movies or users based on the user's rating patterns, refining future recommendations."
   ]
  },
  {
   "cell_type": "markdown",
   "metadata": {},
   "source": [
    "## DATA UNDERSTANDING\n",
    "### DATA SOURCES\n",
    "The project utilizes the MovieLens dataset (https://grouplens.org/datasets/movielens/latest/) from the GroupLens research lab at the University of Minnesota. Given the constraints on computational resources, we're working with the \"small\" dataset, which includes 100,000 user ratings."
   ]
  },
  {
   "cell_type": "markdown",
   "metadata": {},
   "source": [
    "### DATA DESCRIPTION\n",
    "There are a number of csv files available with different columns in the Data file. \n",
    "\n",
    "\n",
    "movies.csv\n",
    "\n",
    "movieId - Unique identifier for each movie.\n",
    "\n",
    "title - The movie titles.\n",
    "\n",
    "genre - The various genres a movie falls into.\n",
    "\n",
    "\n",
    "ratings.csv\n",
    "\n",
    "userId - Unique identifier for each user\n",
    "\n",
    "movieId - Unique identifier for each movie.\n",
    "\n",
    "rating - A value between 0 to 5 that a user rates a movie on. 5 is the highest while 0 is the lowest rating.\n",
    "\n",
    "timestamp - This are the seconds that have passed since Midnight January 1, 1970(UTC)\n",
    "\n",
    "\n",
    "tags.csv\n",
    "\n",
    "userId - Unique identifier for each user\n",
    "\n",
    "movieId - Unique identifier for each movie.\n",
    "\n",
    "tag - A phrase determined by the user.\n",
    "\n",
    "timestamp - This are the seconds that have passed since Midnight January 1, 1970(UTC)\n",
    "\n",
    "\n",
    "links.csv\n",
    "\n",
    "movieId - It's an identifier for movies used by https://movielens.org and has link to each movie.\n",
    "\n",
    "imdbId - It's an identifier for movies used by http://www.imdb.com and has link to each movie.\n",
    "\n",
    "tmdbId - is an identifier for movies used by https://www.themoviedb.org and has link to each movie."
   ]
  },
  {
   "cell_type": "code",
   "execution_count": 53,
   "metadata": {},
   "outputs": [],
   "source": [
    "# Import Libraries\n",
    "import pandas as pd\n",
    "import numpy as np\n",
    "np.int = int\n",
    "import matplotlib.pyplot as plt\n",
    "import seaborn as sns\n",
    "%matplotlib inline\n",
    "\n",
    "from IPython.display import display, HTML\n",
    "\n",
    "import warnings\n",
    "# Ignore all warnings\n",
    "warnings.filterwarnings('ignore')\n"
   ]
  },
  {
   "cell_type": "markdown",
   "metadata": {},
   "source": [
    "Loading the datasets"
   ]
  },
  {
   "cell_type": "code",
   "execution_count": 54,
   "metadata": {},
   "outputs": [],
   "source": [
    "file_path = r\"C:\\Users\\PC\\Documents\\Flatiron\\dsc-data-science-env-config\\Project_phase_4\\links.csv\"\n",
    "links_df = pd.read_csv(file_path)\n",
    "\n",
    "file_path = r\"C:\\Users\\PC\\Documents\\Flatiron\\dsc-data-science-env-config\\Project_phase_4\\movies.csv\"\n",
    "movies_df = pd.read_csv(file_path)\n",
    "\n",
    "file_path = r\"C:\\Users\\PC\\Documents\\Flatiron\\dsc-data-science-env-config\\Project_phase_4\\ratings.csv\"\n",
    "ratings_df = pd.read_csv(file_path)\n",
    "\n",
    "file_path = r\"C:\\Users\\PC\\Documents\\Flatiron\\dsc-data-science-env-config\\Project_phase_4\\tags.csv\"\n",
    "tags_df = pd.read_csv(file_path)\n"
   ]
  },
  {
   "cell_type": "markdown",
   "metadata": {},
   "source": [
    "Displaying the first 5 rows of the datasets"
   ]
  },
  {
   "cell_type": "code",
   "execution_count": 55,
   "metadata": {},
   "outputs": [
    {
     "data": {
      "text/html": [
       "<div style='display: inline-block; vertical-align: top; margin-right: 20px;'><h3>Movies DataFrame</h3><table border=\"1\" class=\"dataframe dataframe\">\n",
       "  <thead>\n",
       "    <tr style=\"text-align: right;\">\n",
       "      <th></th>\n",
       "      <th>movieId</th>\n",
       "      <th>title</th>\n",
       "      <th>genres</th>\n",
       "    </tr>\n",
       "  </thead>\n",
       "  <tbody>\n",
       "    <tr>\n",
       "      <th>0</th>\n",
       "      <td>1</td>\n",
       "      <td>Toy Story (1995)</td>\n",
       "      <td>Adventure|Animation|Children|Comedy|Fantasy</td>\n",
       "    </tr>\n",
       "    <tr>\n",
       "      <th>1</th>\n",
       "      <td>2</td>\n",
       "      <td>Jumanji (1995)</td>\n",
       "      <td>Adventure|Children|Fantasy</td>\n",
       "    </tr>\n",
       "    <tr>\n",
       "      <th>2</th>\n",
       "      <td>3</td>\n",
       "      <td>Grumpier Old Men (1995)</td>\n",
       "      <td>Comedy|Romance</td>\n",
       "    </tr>\n",
       "    <tr>\n",
       "      <th>3</th>\n",
       "      <td>4</td>\n",
       "      <td>Waiting to Exhale (1995)</td>\n",
       "      <td>Comedy|Drama|Romance</td>\n",
       "    </tr>\n",
       "    <tr>\n",
       "      <th>4</th>\n",
       "      <td>5</td>\n",
       "      <td>Father of the Bride Part II (1995)</td>\n",
       "      <td>Comedy</td>\n",
       "    </tr>\n",
       "  </tbody>\n",
       "</table></div><div style='display: inline-block; vertical-align: top; margin-right: 20px;'><h3>Ratings DataFrame</h3><table border=\"1\" class=\"dataframe dataframe\">\n",
       "  <thead>\n",
       "    <tr style=\"text-align: right;\">\n",
       "      <th></th>\n",
       "      <th>userId</th>\n",
       "      <th>movieId</th>\n",
       "      <th>rating</th>\n",
       "      <th>timestamp</th>\n",
       "    </tr>\n",
       "  </thead>\n",
       "  <tbody>\n",
       "    <tr>\n",
       "      <th>0</th>\n",
       "      <td>1</td>\n",
       "      <td>1</td>\n",
       "      <td>4.0</td>\n",
       "      <td>964982703</td>\n",
       "    </tr>\n",
       "    <tr>\n",
       "      <th>1</th>\n",
       "      <td>1</td>\n",
       "      <td>3</td>\n",
       "      <td>4.0</td>\n",
       "      <td>964981247</td>\n",
       "    </tr>\n",
       "    <tr>\n",
       "      <th>2</th>\n",
       "      <td>1</td>\n",
       "      <td>6</td>\n",
       "      <td>4.0</td>\n",
       "      <td>964982224</td>\n",
       "    </tr>\n",
       "    <tr>\n",
       "      <th>3</th>\n",
       "      <td>1</td>\n",
       "      <td>47</td>\n",
       "      <td>5.0</td>\n",
       "      <td>964983815</td>\n",
       "    </tr>\n",
       "    <tr>\n",
       "      <th>4</th>\n",
       "      <td>1</td>\n",
       "      <td>50</td>\n",
       "      <td>5.0</td>\n",
       "      <td>964982931</td>\n",
       "    </tr>\n",
       "  </tbody>\n",
       "</table></div><div style='display: inline-block; vertical-align: top; margin-right: 20px;'><h3>Tags DataFrame</h3><table border=\"1\" class=\"dataframe dataframe\">\n",
       "  <thead>\n",
       "    <tr style=\"text-align: right;\">\n",
       "      <th></th>\n",
       "      <th>userId</th>\n",
       "      <th>movieId</th>\n",
       "      <th>tag</th>\n",
       "      <th>timestamp</th>\n",
       "    </tr>\n",
       "  </thead>\n",
       "  <tbody>\n",
       "    <tr>\n",
       "      <th>0</th>\n",
       "      <td>2</td>\n",
       "      <td>60756</td>\n",
       "      <td>funny</td>\n",
       "      <td>1445714994</td>\n",
       "    </tr>\n",
       "    <tr>\n",
       "      <th>1</th>\n",
       "      <td>2</td>\n",
       "      <td>60756</td>\n",
       "      <td>Highly quotable</td>\n",
       "      <td>1445714996</td>\n",
       "    </tr>\n",
       "    <tr>\n",
       "      <th>2</th>\n",
       "      <td>2</td>\n",
       "      <td>60756</td>\n",
       "      <td>will ferrell</td>\n",
       "      <td>1445714992</td>\n",
       "    </tr>\n",
       "    <tr>\n",
       "      <th>3</th>\n",
       "      <td>2</td>\n",
       "      <td>89774</td>\n",
       "      <td>Boxing story</td>\n",
       "      <td>1445715207</td>\n",
       "    </tr>\n",
       "    <tr>\n",
       "      <th>4</th>\n",
       "      <td>2</td>\n",
       "      <td>89774</td>\n",
       "      <td>MMA</td>\n",
       "      <td>1445715200</td>\n",
       "    </tr>\n",
       "  </tbody>\n",
       "</table></div><div style='display: inline-block; vertical-align: top; margin-right: 20px;'><h3>Links DataFrame</h3><table border=\"1\" class=\"dataframe dataframe\">\n",
       "  <thead>\n",
       "    <tr style=\"text-align: right;\">\n",
       "      <th></th>\n",
       "      <th>movieId</th>\n",
       "      <th>imdbId</th>\n",
       "      <th>tmdbId</th>\n",
       "    </tr>\n",
       "  </thead>\n",
       "  <tbody>\n",
       "    <tr>\n",
       "      <th>0</th>\n",
       "      <td>1</td>\n",
       "      <td>114709</td>\n",
       "      <td>862.0</td>\n",
       "    </tr>\n",
       "    <tr>\n",
       "      <th>1</th>\n",
       "      <td>2</td>\n",
       "      <td>113497</td>\n",
       "      <td>8844.0</td>\n",
       "    </tr>\n",
       "    <tr>\n",
       "      <th>2</th>\n",
       "      <td>3</td>\n",
       "      <td>113228</td>\n",
       "      <td>15602.0</td>\n",
       "    </tr>\n",
       "    <tr>\n",
       "      <th>3</th>\n",
       "      <td>4</td>\n",
       "      <td>114885</td>\n",
       "      <td>31357.0</td>\n",
       "    </tr>\n",
       "    <tr>\n",
       "      <th>4</th>\n",
       "      <td>5</td>\n",
       "      <td>113041</td>\n",
       "      <td>11862.0</td>\n",
       "    </tr>\n",
       "  </tbody>\n",
       "</table></div>"
      ],
      "text/plain": [
       "<IPython.core.display.HTML object>"
      ]
     },
     "metadata": {},
     "output_type": "display_data"
    }
   ],
   "source": [
    "def display_dataframes_side_by_side(*dataframes, titles=None):\n",
    "    if titles is None:\n",
    "        titles = [''] * len(dataframes)\n",
    "    \n",
    "    # Generate HTML representation for each DataFrame and associate it with a title\n",
    "    html_content = []\n",
    "    for dataframe, title in zip(dataframes, titles):\n",
    "        html = dataframe.head().to_html(classes='dataframe', header=True)\n",
    "        html_content.append(f\"<h3>{title}</h3>{html}\")\n",
    "    \n",
    "    # Combine all DataFrames into one HTML block with inline styling for side-by-side display\n",
    "    combined_html = ''.join(\n",
    "        f\"<div style='display: inline-block; vertical-align: top; margin-right: 20px;'>{content}</div>\" \n",
    "        for content in html_content\n",
    "    )\n",
    "    \n",
    "    # Render the HTML content\n",
    "    display(HTML(combined_html))\n",
    "\n",
    "# Example usage with DataFrames\n",
    "display_dataframes_side_by_side(\n",
    "    movies_df, \n",
    "    ratings_df, \n",
    "    tags_df, \n",
    "    links_df, \n",
    "    titles=['Movies DataFrame', 'Ratings DataFrame', 'Tags DataFrame', 'Links DataFrame']\n",
    ")\n"
   ]
  },
  {
   "cell_type": "code",
   "execution_count": 56,
   "metadata": {},
   "outputs": [
    {
     "name": "stdout",
     "output_type": "stream",
     "text": [
      "--- Movies DataFrame Info ---\n",
      "<class 'pandas.core.frame.DataFrame'>\n",
      "RangeIndex: 9742 entries, 0 to 9741\n",
      "Data columns (total 3 columns):\n",
      " #   Column   Non-Null Count  Dtype \n",
      "---  ------   --------------  ----- \n",
      " 0   movieId  9742 non-null   int64 \n",
      " 1   title    9742 non-null   object\n",
      " 2   genres   9742 non-null   object\n",
      "dtypes: int64(1), object(2)\n",
      "memory usage: 228.5+ KB\n",
      "\n",
      "\n",
      "--- Ratings DataFrame Info ---\n",
      "<class 'pandas.core.frame.DataFrame'>\n",
      "RangeIndex: 100836 entries, 0 to 100835\n",
      "Data columns (total 4 columns):\n",
      " #   Column     Non-Null Count   Dtype  \n",
      "---  ------     --------------   -----  \n",
      " 0   userId     100836 non-null  int64  \n",
      " 1   movieId    100836 non-null  int64  \n",
      " 2   rating     100836 non-null  float64\n",
      " 3   timestamp  100836 non-null  int64  \n",
      "dtypes: float64(1), int64(3)\n",
      "memory usage: 3.1 MB\n",
      "\n",
      "\n",
      "--- Tags DataFrame Info ---\n",
      "<class 'pandas.core.frame.DataFrame'>\n",
      "RangeIndex: 3683 entries, 0 to 3682\n",
      "Data columns (total 4 columns):\n",
      " #   Column     Non-Null Count  Dtype \n",
      "---  ------     --------------  ----- \n",
      " 0   userId     3683 non-null   int64 \n",
      " 1   movieId    3683 non-null   int64 \n",
      " 2   tag        3683 non-null   object\n",
      " 3   timestamp  3683 non-null   int64 \n",
      "dtypes: int64(3), object(1)\n",
      "memory usage: 115.2+ KB\n",
      "\n",
      "\n",
      "--- Links DataFrame Info ---\n",
      "<class 'pandas.core.frame.DataFrame'>\n",
      "RangeIndex: 9742 entries, 0 to 9741\n",
      "Data columns (total 3 columns):\n",
      " #   Column   Non-Null Count  Dtype  \n",
      "---  ------   --------------  -----  \n",
      " 0   movieId  9742 non-null   int64  \n",
      " 1   imdbId   9742 non-null   int64  \n",
      " 2   tmdbId   9734 non-null   float64\n",
      "dtypes: float64(1), int64(2)\n",
      "memory usage: 228.5 KB\n",
      "\n",
      "\n"
     ]
    }
   ],
   "source": [
    "# Display Summary Information\n",
    "def display_infos(*dfs, titles=None):\n",
    "    if titles is None:\n",
    "        titles = [''] * len(dfs)\n",
    "    \n",
    "    for df, title in zip(dfs, titles):\n",
    "        print(f\"--- {title} ---\")\n",
    "        df.info()\n",
    "        print(\"\\n\")\n",
    "\n",
    "display_infos(\n",
    "    movies_df, \n",
    "    ratings_df, \n",
    "    tags_df, \n",
    "    links_df, \n",
    "    titles=['Movies DataFrame Info', 'Ratings DataFrame Info', 'Tags DataFrame Info', 'Links DataFrame Info']\n",
    ")"
   ]
  },
  {
   "cell_type": "code",
   "execution_count": 57,
   "metadata": {},
   "outputs": [
    {
     "name": "stdout",
     "output_type": "stream",
     "text": [
      "Movies DataFrame Shape: (9742, 3)\n",
      "Ratings DataFrame Shape: (100836, 4)\n",
      "Tags DataFrame Shape: (3683, 4)\n",
      "Links DataFrame Shape: (9742, 3)\n"
     ]
    }
   ],
   "source": [
    "# Display the shapes of each dataframe\n",
    "for df, title in zip([movies_df, ratings_df, tags_df, links_df], \n",
    "                     ['Movies DataFrame Shape', 'Ratings DataFrame Shape', 'Tags DataFrame Shape', 'Links DataFrame Shape']):\n",
    "    print(f\"{title}: {df.shape}\")"
   ]
  },
  {
   "cell_type": "markdown",
   "metadata": {},
   "source": [
    "### DATA PREPARATION AND ANALYSIS"
   ]
  },
  {
   "cell_type": "markdown",
   "metadata": {},
   "source": [
    "#### Handling missing values "
   ]
  },
  {
   "cell_type": "code",
   "execution_count": 58,
   "metadata": {},
   "outputs": [
    {
     "data": {
      "text/plain": [
       "movieId    0\n",
       "title      0\n",
       "genres     0\n",
       "dtype: int64"
      ]
     },
     "execution_count": 58,
     "metadata": {},
     "output_type": "execute_result"
    }
   ],
   "source": [
    "# check for missing values in movies_df\n",
    "movies_df.isna().sum()"
   ]
  },
  {
   "cell_type": "code",
   "execution_count": 59,
   "metadata": {},
   "outputs": [
    {
     "data": {
      "text/plain": [
       "userId       0\n",
       "movieId      0\n",
       "rating       0\n",
       "timestamp    0\n",
       "dtype: int64"
      ]
     },
     "execution_count": 59,
     "metadata": {},
     "output_type": "execute_result"
    }
   ],
   "source": [
    "# Check for missing values in ratings_df\n",
    "ratings_df.isna().sum()"
   ]
  },
  {
   "cell_type": "code",
   "execution_count": 60,
   "metadata": {},
   "outputs": [
    {
     "data": {
      "text/plain": [
       "userId       0\n",
       "movieId      0\n",
       "tag          0\n",
       "timestamp    0\n",
       "dtype: int64"
      ]
     },
     "execution_count": 60,
     "metadata": {},
     "output_type": "execute_result"
    }
   ],
   "source": [
    "# Check for missing values in tags_df\n",
    "tags_df.isna().sum()"
   ]
  },
  {
   "cell_type": "markdown",
   "metadata": {},
   "source": [
    "There are no missing values from the tags_df, ratings_df and movies_df. This completeness is crucial for accurate movie recommendations, as missing data could lead to incomplete or incorrect suggestions for users."
   ]
  },
  {
   "cell_type": "code",
   "execution_count": 61,
   "metadata": {},
   "outputs": [
    {
     "data": {
      "text/plain": [
       "movieId    0\n",
       "imdbId     0\n",
       "tmdbId     8\n",
       "dtype: int64"
      ]
     },
     "execution_count": 61,
     "metadata": {},
     "output_type": "execute_result"
    }
   ],
   "source": [
    "# Check for missing values in links_df\n",
    "links_df.isna().sum()"
   ]
  },
  {
   "cell_type": "markdown",
   "metadata": {},
   "source": [
    "For links_df, there are 8 missing values in tmbid column. These are considered few to insignificant considering the dataset has 9742 rows.\n",
    " "
   ]
  },
  {
   "cell_type": "markdown",
   "metadata": {},
   "source": [
    "#### Handling duplicate values"
   ]
  },
  {
   "cell_type": "code",
   "execution_count": 62,
   "metadata": {},
   "outputs": [
    {
     "name": "stdout",
     "output_type": "stream",
     "text": [
      "No duplicate rows found in Movies DataFrame.\n",
      "No duplicate rows found in Ratings DataFrame.\n",
      "No duplicate rows found in Tags DataFrame.\n",
      "No duplicate rows found in Links DataFrame.\n"
     ]
    }
   ],
   "source": [
    "# Fiding duplicate values\n",
    "def find_duplicates(dfs_dict):\n",
    "    for df_name, df in dfs_dict.items():\n",
    "        duplicates = df[df.duplicated()]\n",
    "        if not duplicates.empty:\n",
    "            print(f\"Found duplicate rows in {df_name}:\")\n",
    "            print(duplicates)\n",
    "            print()\n",
    "        else:\n",
    "            print(f\"No duplicate rows found in {df_name}.\")\n",
    "\n",
    "# Dictionary of DataFrames\n",
    "dfs_dict = {\n",
    "    'Movies DataFrame': movies_df,\n",
    "    'Ratings DataFrame': ratings_df,\n",
    "    'Tags DataFrame': tags_df,\n",
    "    'Links DataFrame': links_df\n",
    "}\n",
    "\n",
    "# Check for duplicates in each DataFrame\n",
    "find_duplicates(dfs_dict)\n"
   ]
  },
  {
   "cell_type": "markdown",
   "metadata": {},
   "source": [
    "#### Dropping Columns"
   ]
  },
  {
   "cell_type": "markdown",
   "metadata": {},
   "source": [
    "userId is dropped because we focus on the content (tags) associated with movies, not the behavior of specific users who provided the tags.\n",
    "\n",
    "timestamp is dropped because when the tag was added doesn’t influence how the tags describe the movie or affect the recommendation logic."
   ]
  },
  {
   "cell_type": "code",
   "execution_count": 63,
   "metadata": {},
   "outputs": [
    {
     "data": {
      "text/html": [
       "<div>\n",
       "<style scoped>\n",
       "    .dataframe tbody tr th:only-of-type {\n",
       "        vertical-align: middle;\n",
       "    }\n",
       "\n",
       "    .dataframe tbody tr th {\n",
       "        vertical-align: top;\n",
       "    }\n",
       "\n",
       "    .dataframe thead th {\n",
       "        text-align: right;\n",
       "    }\n",
       "</style>\n",
       "<table border=\"1\" class=\"dataframe\">\n",
       "  <thead>\n",
       "    <tr style=\"text-align: right;\">\n",
       "      <th></th>\n",
       "      <th>movieId</th>\n",
       "      <th>tag</th>\n",
       "    </tr>\n",
       "  </thead>\n",
       "  <tbody>\n",
       "    <tr>\n",
       "      <th>0</th>\n",
       "      <td>60756</td>\n",
       "      <td>funny</td>\n",
       "    </tr>\n",
       "    <tr>\n",
       "      <th>1</th>\n",
       "      <td>60756</td>\n",
       "      <td>Highly quotable</td>\n",
       "    </tr>\n",
       "    <tr>\n",
       "      <th>2</th>\n",
       "      <td>60756</td>\n",
       "      <td>will ferrell</td>\n",
       "    </tr>\n",
       "    <tr>\n",
       "      <th>3</th>\n",
       "      <td>89774</td>\n",
       "      <td>Boxing story</td>\n",
       "    </tr>\n",
       "    <tr>\n",
       "      <th>4</th>\n",
       "      <td>89774</td>\n",
       "      <td>MMA</td>\n",
       "    </tr>\n",
       "  </tbody>\n",
       "</table>\n",
       "</div>"
      ],
      "text/plain": [
       "   movieId              tag\n",
       "0    60756            funny\n",
       "1    60756  Highly quotable\n",
       "2    60756     will ferrell\n",
       "3    89774     Boxing story\n",
       "4    89774              MMA"
      ]
     },
     "execution_count": 63,
     "metadata": {},
     "output_type": "execute_result"
    }
   ],
   "source": [
    "# drop userID and timestamp columns in tags dataset\n",
    "tags_df = tags_df.drop(['timestamp','userId'], axis=1)\n",
    "tags_df.head()"
   ]
  },
  {
   "cell_type": "markdown",
   "metadata": {},
   "source": [
    "##### Merge datasets"
   ]
  },
  {
   "cell_type": "code",
   "execution_count": 64,
   "metadata": {},
   "outputs": [],
   "source": [
    "# Merge movies and ratings on 'movieId'\n",
    "movies_ratings = movies_df.merge(ratings_df, how='inner', on='movieId')\n",
    "\n",
    "# Merge the result with links on 'movieId'\n",
    "movies_ratings_links = movies_ratings.merge(links_df, how='inner', on='movieId')\n",
    "\n",
    "# Merge the combined result with tags on 'movieId'\n",
    "combined_df = movies_ratings_links.merge(tags_df, how='inner', on='movieId')"
   ]
  },
  {
   "cell_type": "code",
   "execution_count": 65,
   "metadata": {},
   "outputs": [
    {
     "data": {
      "text/html": [
       "<div>\n",
       "<style scoped>\n",
       "    .dataframe tbody tr th:only-of-type {\n",
       "        vertical-align: middle;\n",
       "    }\n",
       "\n",
       "    .dataframe tbody tr th {\n",
       "        vertical-align: top;\n",
       "    }\n",
       "\n",
       "    .dataframe thead th {\n",
       "        text-align: right;\n",
       "    }\n",
       "</style>\n",
       "<table border=\"1\" class=\"dataframe\">\n",
       "  <thead>\n",
       "    <tr style=\"text-align: right;\">\n",
       "      <th></th>\n",
       "      <th>movieId</th>\n",
       "      <th>title</th>\n",
       "      <th>genres</th>\n",
       "      <th>userId</th>\n",
       "      <th>rating</th>\n",
       "      <th>timestamp</th>\n",
       "      <th>imdbId</th>\n",
       "      <th>tmdbId</th>\n",
       "      <th>tag</th>\n",
       "    </tr>\n",
       "  </thead>\n",
       "  <tbody>\n",
       "    <tr>\n",
       "      <th>0</th>\n",
       "      <td>1</td>\n",
       "      <td>Toy Story (1995)</td>\n",
       "      <td>Adventure|Animation|Children|Comedy|Fantasy</td>\n",
       "      <td>1</td>\n",
       "      <td>4.0</td>\n",
       "      <td>964982703</td>\n",
       "      <td>114709</td>\n",
       "      <td>862.0</td>\n",
       "      <td>pixar</td>\n",
       "    </tr>\n",
       "    <tr>\n",
       "      <th>1</th>\n",
       "      <td>1</td>\n",
       "      <td>Toy Story (1995)</td>\n",
       "      <td>Adventure|Animation|Children|Comedy|Fantasy</td>\n",
       "      <td>1</td>\n",
       "      <td>4.0</td>\n",
       "      <td>964982703</td>\n",
       "      <td>114709</td>\n",
       "      <td>862.0</td>\n",
       "      <td>pixar</td>\n",
       "    </tr>\n",
       "    <tr>\n",
       "      <th>2</th>\n",
       "      <td>1</td>\n",
       "      <td>Toy Story (1995)</td>\n",
       "      <td>Adventure|Animation|Children|Comedy|Fantasy</td>\n",
       "      <td>1</td>\n",
       "      <td>4.0</td>\n",
       "      <td>964982703</td>\n",
       "      <td>114709</td>\n",
       "      <td>862.0</td>\n",
       "      <td>fun</td>\n",
       "    </tr>\n",
       "    <tr>\n",
       "      <th>3</th>\n",
       "      <td>1</td>\n",
       "      <td>Toy Story (1995)</td>\n",
       "      <td>Adventure|Animation|Children|Comedy|Fantasy</td>\n",
       "      <td>5</td>\n",
       "      <td>4.0</td>\n",
       "      <td>847434962</td>\n",
       "      <td>114709</td>\n",
       "      <td>862.0</td>\n",
       "      <td>pixar</td>\n",
       "    </tr>\n",
       "    <tr>\n",
       "      <th>4</th>\n",
       "      <td>1</td>\n",
       "      <td>Toy Story (1995)</td>\n",
       "      <td>Adventure|Animation|Children|Comedy|Fantasy</td>\n",
       "      <td>5</td>\n",
       "      <td>4.0</td>\n",
       "      <td>847434962</td>\n",
       "      <td>114709</td>\n",
       "      <td>862.0</td>\n",
       "      <td>pixar</td>\n",
       "    </tr>\n",
       "  </tbody>\n",
       "</table>\n",
       "</div>"
      ],
      "text/plain": [
       "   movieId             title                                       genres  \\\n",
       "0        1  Toy Story (1995)  Adventure|Animation|Children|Comedy|Fantasy   \n",
       "1        1  Toy Story (1995)  Adventure|Animation|Children|Comedy|Fantasy   \n",
       "2        1  Toy Story (1995)  Adventure|Animation|Children|Comedy|Fantasy   \n",
       "3        1  Toy Story (1995)  Adventure|Animation|Children|Comedy|Fantasy   \n",
       "4        1  Toy Story (1995)  Adventure|Animation|Children|Comedy|Fantasy   \n",
       "\n",
       "   userId  rating  timestamp  imdbId  tmdbId    tag  \n",
       "0       1     4.0  964982703  114709   862.0  pixar  \n",
       "1       1     4.0  964982703  114709   862.0  pixar  \n",
       "2       1     4.0  964982703  114709   862.0    fun  \n",
       "3       5     4.0  847434962  114709   862.0  pixar  \n",
       "4       5     4.0  847434962  114709   862.0  pixar  "
      ]
     },
     "execution_count": 65,
     "metadata": {},
     "output_type": "execute_result"
    }
   ],
   "source": [
    "#Display New dataset\n",
    "combined_df.head()"
   ]
  },
  {
   "cell_type": "markdown",
   "metadata": {},
   "source": [
    "The new combined dataset has 9 columns "
   ]
  },
  {
   "cell_type": "markdown",
   "metadata": {},
   "source": [
    "#### FEATURE ENGINEERING"
   ]
  },
  {
   "cell_type": "markdown",
   "metadata": {},
   "source": [
    "During the feature engineering process, we extracted the release year for each movie from the title column and created a new Year feature to store this information. After that, we cleaned the title column by removing the year (which was enclosed in parentheses) to keep the movie titles consistent and formatted uniformly throughout the dataset."
   ]
  },
  {
   "cell_type": "code",
   "execution_count": 66,
   "metadata": {},
   "outputs": [
    {
     "data": {
      "text/html": [
       "<div>\n",
       "<style scoped>\n",
       "    .dataframe tbody tr th:only-of-type {\n",
       "        vertical-align: middle;\n",
       "    }\n",
       "\n",
       "    .dataframe tbody tr th {\n",
       "        vertical-align: top;\n",
       "    }\n",
       "\n",
       "    .dataframe thead th {\n",
       "        text-align: right;\n",
       "    }\n",
       "</style>\n",
       "<table border=\"1\" class=\"dataframe\">\n",
       "  <thead>\n",
       "    <tr style=\"text-align: right;\">\n",
       "      <th></th>\n",
       "      <th>movieId</th>\n",
       "      <th>title</th>\n",
       "      <th>genres</th>\n",
       "      <th>userId</th>\n",
       "      <th>rating</th>\n",
       "      <th>timestamp</th>\n",
       "      <th>imdbId</th>\n",
       "      <th>tmdbId</th>\n",
       "      <th>tag</th>\n",
       "      <th>Year</th>\n",
       "    </tr>\n",
       "  </thead>\n",
       "  <tbody>\n",
       "    <tr>\n",
       "      <th>0</th>\n",
       "      <td>1</td>\n",
       "      <td>Toy Story (1995)</td>\n",
       "      <td>Adventure|Animation|Children|Comedy|Fantasy</td>\n",
       "      <td>1</td>\n",
       "      <td>4.0</td>\n",
       "      <td>964982703</td>\n",
       "      <td>114709</td>\n",
       "      <td>862.0</td>\n",
       "      <td>pixar</td>\n",
       "      <td>1995</td>\n",
       "    </tr>\n",
       "    <tr>\n",
       "      <th>1</th>\n",
       "      <td>1</td>\n",
       "      <td>Toy Story (1995)</td>\n",
       "      <td>Adventure|Animation|Children|Comedy|Fantasy</td>\n",
       "      <td>1</td>\n",
       "      <td>4.0</td>\n",
       "      <td>964982703</td>\n",
       "      <td>114709</td>\n",
       "      <td>862.0</td>\n",
       "      <td>pixar</td>\n",
       "      <td>1995</td>\n",
       "    </tr>\n",
       "    <tr>\n",
       "      <th>2</th>\n",
       "      <td>1</td>\n",
       "      <td>Toy Story (1995)</td>\n",
       "      <td>Adventure|Animation|Children|Comedy|Fantasy</td>\n",
       "      <td>1</td>\n",
       "      <td>4.0</td>\n",
       "      <td>964982703</td>\n",
       "      <td>114709</td>\n",
       "      <td>862.0</td>\n",
       "      <td>fun</td>\n",
       "      <td>1995</td>\n",
       "    </tr>\n",
       "    <tr>\n",
       "      <th>3</th>\n",
       "      <td>1</td>\n",
       "      <td>Toy Story (1995)</td>\n",
       "      <td>Adventure|Animation|Children|Comedy|Fantasy</td>\n",
       "      <td>5</td>\n",
       "      <td>4.0</td>\n",
       "      <td>847434962</td>\n",
       "      <td>114709</td>\n",
       "      <td>862.0</td>\n",
       "      <td>pixar</td>\n",
       "      <td>1995</td>\n",
       "    </tr>\n",
       "    <tr>\n",
       "      <th>4</th>\n",
       "      <td>1</td>\n",
       "      <td>Toy Story (1995)</td>\n",
       "      <td>Adventure|Animation|Children|Comedy|Fantasy</td>\n",
       "      <td>5</td>\n",
       "      <td>4.0</td>\n",
       "      <td>847434962</td>\n",
       "      <td>114709</td>\n",
       "      <td>862.0</td>\n",
       "      <td>pixar</td>\n",
       "      <td>1995</td>\n",
       "    </tr>\n",
       "  </tbody>\n",
       "</table>\n",
       "</div>"
      ],
      "text/plain": [
       "   movieId             title                                       genres  \\\n",
       "0        1  Toy Story (1995)  Adventure|Animation|Children|Comedy|Fantasy   \n",
       "1        1  Toy Story (1995)  Adventure|Animation|Children|Comedy|Fantasy   \n",
       "2        1  Toy Story (1995)  Adventure|Animation|Children|Comedy|Fantasy   \n",
       "3        1  Toy Story (1995)  Adventure|Animation|Children|Comedy|Fantasy   \n",
       "4        1  Toy Story (1995)  Adventure|Animation|Children|Comedy|Fantasy   \n",
       "\n",
       "   userId  rating  timestamp  imdbId  tmdbId    tag  Year  \n",
       "0       1     4.0  964982703  114709   862.0  pixar  1995  \n",
       "1       1     4.0  964982703  114709   862.0  pixar  1995  \n",
       "2       1     4.0  964982703  114709   862.0    fun  1995  \n",
       "3       5     4.0  847434962  114709   862.0  pixar  1995  \n",
       "4       5     4.0  847434962  114709   862.0  pixar  1995  "
      ]
     },
     "execution_count": 66,
     "metadata": {},
     "output_type": "execute_result"
    }
   ],
   "source": [
    "#Extracting the release year for each movie from the title column and creating a new 'Year' feature\n",
    "combined_df['Year'] = combined_df['title'].str.extract(r'\\((\\d{4})\\)')\n",
    "combined_df.head()"
   ]
  },
  {
   "cell_type": "code",
   "execution_count": 67,
   "metadata": {},
   "outputs": [
    {
     "data": {
      "text/html": [
       "<div>\n",
       "<style scoped>\n",
       "    .dataframe tbody tr th:only-of-type {\n",
       "        vertical-align: middle;\n",
       "    }\n",
       "\n",
       "    .dataframe tbody tr th {\n",
       "        vertical-align: top;\n",
       "    }\n",
       "\n",
       "    .dataframe thead th {\n",
       "        text-align: right;\n",
       "    }\n",
       "</style>\n",
       "<table border=\"1\" class=\"dataframe\">\n",
       "  <thead>\n",
       "    <tr style=\"text-align: right;\">\n",
       "      <th></th>\n",
       "      <th>movieId</th>\n",
       "      <th>title</th>\n",
       "      <th>genres</th>\n",
       "      <th>userId</th>\n",
       "      <th>rating</th>\n",
       "      <th>timestamp</th>\n",
       "      <th>imdbId</th>\n",
       "      <th>tmdbId</th>\n",
       "      <th>tag</th>\n",
       "      <th>Year</th>\n",
       "    </tr>\n",
       "  </thead>\n",
       "  <tbody>\n",
       "    <tr>\n",
       "      <th>0</th>\n",
       "      <td>1</td>\n",
       "      <td>Toy Story</td>\n",
       "      <td>Adventure|Animation|Children|Comedy|Fantasy</td>\n",
       "      <td>1</td>\n",
       "      <td>4.0</td>\n",
       "      <td>964982703</td>\n",
       "      <td>114709</td>\n",
       "      <td>862.0</td>\n",
       "      <td>pixar</td>\n",
       "      <td>1995</td>\n",
       "    </tr>\n",
       "    <tr>\n",
       "      <th>1</th>\n",
       "      <td>1</td>\n",
       "      <td>Toy Story</td>\n",
       "      <td>Adventure|Animation|Children|Comedy|Fantasy</td>\n",
       "      <td>1</td>\n",
       "      <td>4.0</td>\n",
       "      <td>964982703</td>\n",
       "      <td>114709</td>\n",
       "      <td>862.0</td>\n",
       "      <td>pixar</td>\n",
       "      <td>1995</td>\n",
       "    </tr>\n",
       "    <tr>\n",
       "      <th>2</th>\n",
       "      <td>1</td>\n",
       "      <td>Toy Story</td>\n",
       "      <td>Adventure|Animation|Children|Comedy|Fantasy</td>\n",
       "      <td>1</td>\n",
       "      <td>4.0</td>\n",
       "      <td>964982703</td>\n",
       "      <td>114709</td>\n",
       "      <td>862.0</td>\n",
       "      <td>fun</td>\n",
       "      <td>1995</td>\n",
       "    </tr>\n",
       "    <tr>\n",
       "      <th>3</th>\n",
       "      <td>1</td>\n",
       "      <td>Toy Story</td>\n",
       "      <td>Adventure|Animation|Children|Comedy|Fantasy</td>\n",
       "      <td>5</td>\n",
       "      <td>4.0</td>\n",
       "      <td>847434962</td>\n",
       "      <td>114709</td>\n",
       "      <td>862.0</td>\n",
       "      <td>pixar</td>\n",
       "      <td>1995</td>\n",
       "    </tr>\n",
       "    <tr>\n",
       "      <th>4</th>\n",
       "      <td>1</td>\n",
       "      <td>Toy Story</td>\n",
       "      <td>Adventure|Animation|Children|Comedy|Fantasy</td>\n",
       "      <td>5</td>\n",
       "      <td>4.0</td>\n",
       "      <td>847434962</td>\n",
       "      <td>114709</td>\n",
       "      <td>862.0</td>\n",
       "      <td>pixar</td>\n",
       "      <td>1995</td>\n",
       "    </tr>\n",
       "  </tbody>\n",
       "</table>\n",
       "</div>"
      ],
      "text/plain": [
       "   movieId      title                                       genres  userId  \\\n",
       "0        1  Toy Story  Adventure|Animation|Children|Comedy|Fantasy       1   \n",
       "1        1  Toy Story  Adventure|Animation|Children|Comedy|Fantasy       1   \n",
       "2        1  Toy Story  Adventure|Animation|Children|Comedy|Fantasy       1   \n",
       "3        1  Toy Story  Adventure|Animation|Children|Comedy|Fantasy       5   \n",
       "4        1  Toy Story  Adventure|Animation|Children|Comedy|Fantasy       5   \n",
       "\n",
       "   rating  timestamp  imdbId  tmdbId    tag  Year  \n",
       "0     4.0  964982703  114709   862.0  pixar  1995  \n",
       "1     4.0  964982703  114709   862.0  pixar  1995  \n",
       "2     4.0  964982703  114709   862.0    fun  1995  \n",
       "3     4.0  847434962  114709   862.0  pixar  1995  \n",
       "4     4.0  847434962  114709   862.0  pixar  1995  "
      ]
     },
     "execution_count": 67,
     "metadata": {},
     "output_type": "execute_result"
    }
   ],
   "source": [
    "#cleaning the title column by removing the year (which was enclosed in parentheses) \n",
    "combined_df['title'] = combined_df['title'].str.replace(r'\\s*\\(\\d{4}\\)', '')\n",
    "combined_df.head()"
   ]
  },
  {
   "cell_type": "markdown",
   "metadata": {},
   "source": [
    "Now that we have the new dataset ie combined_df, it is important to check and clean it so as to ensure consistency and avoid biases that may affect the accuracy of trends and reccommendations given"
   ]
  },
  {
   "cell_type": "code",
   "execution_count": 68,
   "metadata": {},
   "outputs": [
    {
     "name": "stdout",
     "output_type": "stream",
     "text": [
      "<class 'pandas.core.frame.DataFrame'>\n",
      "Int64Index: 233213 entries, 0 to 233212\n",
      "Data columns (total 10 columns):\n",
      " #   Column     Non-Null Count   Dtype  \n",
      "---  ------     --------------   -----  \n",
      " 0   movieId    233213 non-null  int64  \n",
      " 1   title      233213 non-null  object \n",
      " 2   genres     233213 non-null  object \n",
      " 3   userId     233213 non-null  int64  \n",
      " 4   rating     233213 non-null  float64\n",
      " 5   timestamp  233213 non-null  int64  \n",
      " 6   imdbId     233213 non-null  int64  \n",
      " 7   tmdbId     233213 non-null  float64\n",
      " 8   tag        233213 non-null  object \n",
      " 9   Year       233210 non-null  object \n",
      "dtypes: float64(2), int64(4), object(4)\n",
      "memory usage: 19.6+ MB\n"
     ]
    }
   ],
   "source": [
    "#Displaying summary information of the combined_df\n",
    "combined_df.info()"
   ]
  },
  {
   "cell_type": "code",
   "execution_count": 69,
   "metadata": {},
   "outputs": [
    {
     "data": {
      "text/plain": [
       "movieId      0\n",
       "title        0\n",
       "genres       0\n",
       "userId       0\n",
       "rating       0\n",
       "timestamp    0\n",
       "imdbId       0\n",
       "tmdbId       0\n",
       "tag          0\n",
       "Year         3\n",
       "dtype: int64"
      ]
     },
     "execution_count": 69,
     "metadata": {},
     "output_type": "execute_result"
    }
   ],
   "source": [
    "#checking for missing values in the new combined_df\n",
    "combined_df.isna().sum()"
   ]
  },
  {
   "cell_type": "code",
   "execution_count": 70,
   "metadata": {},
   "outputs": [],
   "source": [
    "# Convert the 'Year' column to numeric values, setting invalid parsing to NaN\n",
    "combined_df['Year'] = pd.to_numeric(combined_df['Year'], errors='coerce')\n",
    "\n",
    "# Remove any rows where the 'Year' column contains NaN values\n",
    "combined_df = combined_df.dropna(subset=['Year'])\n",
    "\n",
    "# Change the 'Year' column data type to integers\n",
    "combined_df['Year'] = combined_df['Year'].astype(int)"
   ]
  },
  {
   "cell_type": "markdown",
   "metadata": {},
   "source": [
    "#### EXPLANATORY DATA ANALYSIS"
   ]
  },
  {
   "cell_type": "markdown",
   "metadata": {},
   "source": [
    "Ratings Distribution"
   ]
  },
  {
   "cell_type": "code",
   "execution_count": 96,
   "metadata": {},
   "outputs": [
    {
     "data": {
      "image/png": "[encoded data removed]",
      "text/plain": [
       "<Figure size 720x432 with 1 Axes>"
      ]
     },
     "metadata": {
      "needs_background": "light"
     },
     "output_type": "display_data"
    }
   ],
   "source": [
    "# Histogram for Ratings distribution\n",
    "plt.figure(figsize=(10, 6))\n",
    "plt.hist(combined_df['rating'], bins=12, color='#1E90FF', edgecolor='white', alpha=0.9)  \n",
    "plt.xlabel('Rating', fontsize=14, color='black', weight='bold')\n",
    "plt.ylabel('Frequency', fontsize=14, color='black', weight='bold')\n",
    "plt.title('Ratings Distribution', fontsize=18, color='black', weight='bold')\n",
    "plt.grid(axis='y', linestyle='-', alpha=0.5) \n",
    "plt.xticks(range(int(combined_df['rating'].min()), int(combined_df['rating'].max()) + 1))\n",
    "plt.tight_layout()\n",
    "plt.show()\n"
   ]
  },
  {
   "cell_type": "markdown",
   "metadata": {},
   "source": [
    " The Ratings Distribution- graph aims to show how often certain rating values occur in the dataset.The most frequent ratings seem to be clustered toward the right, suggesting higher ratings are more common, with two high peaks toward the maximum rating value. There are fewer ratings at the lower end of the scale, indicating that lower ratings are less frequent."
   ]
  },
  {
   "cell_type": "markdown",
   "metadata": {},
   "source": [
    "Top movie genres"
   ]
  },
  {
   "cell_type": "code",
   "execution_count": 97,
   "metadata": {},
   "outputs": [
    {
     "data": {
      "image/png": "[encoded data removed]",
      "text/plain": [
       "<Figure size 864x576 with 1 Axes>"
      ]
     },
     "metadata": {
      "needs_background": "light"
     },
     "output_type": "display_data"
    }
   ],
   "source": [
    "# Step 1: Combine all genres into a single string and split by the delimiter '|'\n",
    "genres_list = '|'.join(combined_df['genres']).split('|')\n",
    "\n",
    "# Step 2: Use a Counter to tally the frequency of each genre\n",
    "from collections import Counter\n",
    "genre_counts = Counter(genres_list)\n",
    "\n",
    "# Step 3: Convert the Counter object to a pandas Series and sort it in descending order\n",
    "genre_counts_series = pd.Series(genre_counts).sort_values(ascending=False)\n",
    "\n",
    "# Step 4: Plot the bar chart with improved aesthetics\n",
    "plt.figure(figsize=(12, 8))\n",
    "sns.barplot(x=genre_counts_series.index, y=genre_counts_series.values, palette='plasma')\n",
    "plt.xlabel('Genre', fontsize=16, color='darkblue', weight='bold')\n",
    "plt.ylabel('Count', fontsize=16, color='darkblue', weight='bold')\n",
    "plt.title('Top Genres', fontsize=20, color='darkblue', weight='bold')\n",
    "plt.xticks(rotation=90, fontsize=14)\n",
    "plt.yticks(fontsize=14)\n",
    "plt.grid(axis='y', linestyle='--', alpha=0.7)\n",
    "\n",
    "# Step 5: Show the plot\n",
    "plt.tight_layout()\n",
    "plt.show()\n"
   ]
  },
  {
   "cell_type": "markdown",
   "metadata": {},
   "source": [
    "Above is a Top Genre Graph. It represents the most popular genres that people prefer to watch.  In descending order more people watch Drama > Thriller> Crime> Comedy > Action. Here, a more detailed and flexible approach by splitting genres and manually counting their occurrences using the | delimiter, has been used. It handles scenarios where movies have multiple genres, which is a common case in real-world movie datasets.This is important for analyzing genre overlap and trends and makes this approach flexible enough to incorporate into more sophisticated recommendation algorithms (e.g., collaborative filtering or content-based filtering)."
   ]
  },
  {
   "cell_type": "markdown",
   "metadata": {},
   "source": [
    "Movie Production by Decade"
   ]
  },
  {
   "cell_type": "code",
   "execution_count": 98,
   "metadata": {},
   "outputs": [
    {
     "data": {
      "image/png": "[encoded data removed]",
      "text/plain": [
       "<Figure size 720x432 with 1 Axes>"
      ]
     },
     "metadata": {
      "needs_background": "light"
     },
     "output_type": "display_data"
    }
   ],
   "source": [
    "#Count of Movies Every Decade\n",
    "\n",
    "# Group years by decades\n",
    "combined_df['Decade'] = (combined_df['Year'] // 10) * 10\n",
    "\n",
    "fig, ax = plt.subplots(figsize=(10,6))\n",
    "\n",
    "# Create count plot\n",
    "sns.countplot(x='Decade', data=combined_df, color='#1E90FF', ax=ax)\n",
    "\n",
    "# Customize labels and title\n",
    "plt.xlabel(\"Decade\", fontsize=16, color='black', weight='bold')\n",
    "plt.ylabel(\"Number of Movies\", fontsize=16, color='black', weight='bold')\n",
    "plt.title(\"Number of Movies by Decade\", fontsize=20, color='black', weight='bold')\n",
    "\n",
    "# Customize tick labels\n",
    "plt.xticks(fontsize=14, rotation=45)\n",
    "plt.yticks(fontsize=14)\n",
    "\n",
    "# Remove grid lines for cleaner look\n",
    "ax.grid(False)\n",
    "\n",
    "# Update x-axis labels with the decade range\n",
    "decades = np.sort(combined_df['Decade'].dropna().unique())\n",
    "ax.set_xticks(np.arange(len(decades)))\n",
    "ax.set_xticklabels(decades, fontsize=14)\n",
    "\n",
    "plt.tight_layout()\n",
    "plt.show()"
   ]
  },
  {
   "cell_type": "markdown",
   "metadata": {},
   "source": [
    "The bar plot shows a sharp contrast in movie production between the 1930s and the 1990s. While the 1930s had far fewer movies, the 1990s saw a massive spike, with over 120,000 films produced. This reflects a steady rise in production over the decades, peaking in the 1990s. However, movie production dropped significantly between 2000 and 2010."
   ]
  },
  {
   "cell_type": "markdown",
   "metadata": {},
   "source": [
    "Top 10 Active users"
   ]
  },
  {
   "cell_type": "code",
   "execution_count": 99,
   "metadata": {},
   "outputs": [
    {
     "data": {
      "image/png": "[encoded data removed]",
      "text/plain": [
       "<Figure size 720x432 with 1 Axes>"
      ]
     },
     "metadata": {
      "needs_background": "light"
     },
     "output_type": "display_data"
    }
   ],
   "source": [
    "# Top 10 Active Users\n",
    "\n",
    "# Calculate the number of ratings per user\n",
    "user_ratings = combined_df.groupby('userId')['rating'].count()\n",
    "\n",
    "# Get the top 10 most active users\n",
    "top_users = user_ratings.nlargest(10)\n",
    "\n",
    "# Create the bar plot for the top 10 most active users\n",
    "plt.figure(figsize=(10,6))\n",
    "sns.barplot(x=top_users.index, y=top_users.values, palette='plasma')\n",
    "plt.xlabel('User ID', fontsize=16, color='darkblue', weight='bold')\n",
    "plt.ylabel('Number of Ratings', fontsize=16, color='darkblue', weight='bold')\n",
    "plt.title('Top 10 Most Active Users by Number of Ratings', fontsize=20, color='darkblue', weight='bold')\n",
    "plt.xticks(rotation=45, fontsize=14)\n",
    "plt.yticks(fontsize=14)\n",
    "plt.grid(axis='y', linestyle='--', alpha=0.7)\n",
    "\n",
    "# Show the plot\n",
    "plt.tight_layout()\n",
    "plt.show()"
   ]
  },
  {
   "cell_type": "markdown",
   "metadata": {},
   "source": [
    "From the bar graph, User 474 is the most active, with 2,400 ratings, showing strong engagement with the movie database. Users 414 and 599 are also active but have fewer ratings, meaning they contribute a lot, just not as much as User 474."
   ]
  },
  {
   "cell_type": "markdown",
   "metadata": {},
   "source": []
  },
  {
   "cell_type": "code",
   "execution_count": null,
   "metadata": {},
   "outputs": [],
   "source": []
  },
  {
   "cell_type": "code",
   "execution_count": null,
   "metadata": {},
   "outputs": [],
   "source": []
  },
  {
   "cell_type": "code",
   "execution_count": null,
   "metadata": {},
   "outputs": [],
   "source": []
  },
  {
   "cell_type": "code",
   "execution_count": null,
   "metadata": {},
   "outputs": [],
   "source": []
  },
  {
   "cell_type": "code",
   "execution_count": null,
   "metadata": {},
   "outputs": [],
   "source": []
  },
  {
   "cell_type": "code",
   "execution_count": null,
   "metadata": {},
   "outputs": [],
   "source": []
  },
  {
   "cell_type": "code",
   "execution_count": null,
   "metadata": {},
   "outputs": [],
   "source": []
  },
  {
   "cell_type": "code",
   "execution_count": null,
   "metadata": {},
   "outputs": [],
   "source": []
  },
  {
   "cell_type": "code",
   "execution_count": null,
   "metadata": {},
   "outputs": [],
   "source": []
  },
  {
   "cell_type": "code",
   "execution_count": null,
   "metadata": {},
   "outputs": [],
   "source": []
  }
 ],
 "metadata": {
  "kernelspec": {
   "display_name": "learn-env",
   "language": "python",
   "name": "python3"
  },
  "language_info": {
   "codemirror_mode": {
    "name": "ipython",
    "version": 3
   },
   "file_extension": ".py",
   "mimetype": "text/x-python",
   "name": "python",
   "nbconvert_exporter": "python",
   "pygments_lexer": "ipython3",
   "version": "3.8.5"
  }
 },
 "nbformat": 4,
 "nbformat_minor": 2
}

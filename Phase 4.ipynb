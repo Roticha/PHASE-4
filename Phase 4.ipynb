{
 "cells": [
  {
   "cell_type": "code",
   "execution_count": 1,
   "metadata": {},
   "outputs": [],
   "source": [
    "import pandas as pd\n",
    "import numpy as np\n",
    "from sklearn.feature_extraction.text import TfidfVectorizer\n",
    "from sklearn.metrics.pairwise import cosine_similarity"
   ]
  },
  {
   "cell_type": "code",
   "execution_count": 2,
   "metadata": {},
   "outputs": [
    {
     "name": "stdout",
     "output_type": "stream",
     "text": [
      "   movieId                               title  \\\n",
      "0        1                    Toy Story (1995)   \n",
      "1        2                      Jumanji (1995)   \n",
      "2        3             Grumpier Old Men (1995)   \n",
      "3        4            Waiting to Exhale (1995)   \n",
      "4        5  Father of the Bride Part II (1995)   \n",
      "\n",
      "                                        genres  \n",
      "0  Adventure|Animation|Children|Comedy|Fantasy  \n",
      "1                   Adventure|Children|Fantasy  \n",
      "2                               Comedy|Romance  \n",
      "3                         Comedy|Drama|Romance  \n",
      "4                                       Comedy  \n",
      "   userId  movieId  rating  timestamp\n",
      "0       1        1     4.0  964982703\n",
      "1       1        3     4.0  964981247\n",
      "2       1        6     4.0  964982224\n",
      "3       1       47     5.0  964983815\n",
      "4       1       50     5.0  964982931\n",
      "   userId  movieId              tag   timestamp\n",
      "0       2    60756            funny  1445714994\n",
      "1       2    60756  Highly quotable  1445714996\n",
      "2       2    60756     will ferrell  1445714992\n",
      "3       2    89774     Boxing story  1445715207\n",
      "4       2    89774              MMA  1445715200\n",
      "   movieId  imdbId   tmdbId\n",
      "0        1  114709    862.0\n",
      "1        2  113497   8844.0\n",
      "2        3  113228  15602.0\n",
      "3        4  114885  31357.0\n",
      "4        5  113041  11862.0\n"
     ]
    }
   ],
   "source": [
    "# Load the CSV files\n",
    "movies_df = pd.read_csv('ml-latest-small/movies.csv')\n",
    "ratings_df = pd.read_csv('ml-latest-small/ratings.csv')\n",
    "tags_df = pd.read_csv('ml-latest-small/tags.csv')\n",
    "links_df = pd.read_csv('ml-latest-small/links.csv')\n",
    "\n",
    "# Display the first few rows of each file to understand their structure\n",
    "print(movies_df.head())\n",
    "print(ratings_df.head())\n",
    "print(tags_df.head())\n",
    "print(links_df.head())"
   ]
  },
  {
   "cell_type": "code",
   "execution_count": 3,
   "metadata": {},
   "outputs": [
    {
     "name": "stdout",
     "output_type": "stream",
     "text": [
      "   userId  movieId  rating  timestamp_x             title  \\\n",
      "0       1        1     4.0    964982703  Toy Story (1995)   \n",
      "1       5        1     4.0    847434962  Toy Story (1995)   \n",
      "2       7        1     4.5   1106635946  Toy Story (1995)   \n",
      "3      15        1     2.5   1510577970  Toy Story (1995)   \n",
      "4      17        1     4.5   1305696483  Toy Story (1995)   \n",
      "\n",
      "                                        genres  tag  timestamp_y  imdbId  \\\n",
      "0  Adventure|Animation|Children|Comedy|Fantasy  NaN          NaN  114709   \n",
      "1  Adventure|Animation|Children|Comedy|Fantasy  NaN          NaN  114709   \n",
      "2  Adventure|Animation|Children|Comedy|Fantasy  NaN          NaN  114709   \n",
      "3  Adventure|Animation|Children|Comedy|Fantasy  NaN          NaN  114709   \n",
      "4  Adventure|Animation|Children|Comedy|Fantasy  NaN          NaN  114709   \n",
      "\n",
      "   tmdbId  \n",
      "0   862.0  \n",
      "1   862.0  \n",
      "2   862.0  \n",
      "3   862.0  \n",
      "4   862.0  \n"
     ]
    }
   ],
   "source": [
    "# Merge ratings with movies to associate ratings with movie titles\n",
    "ratings_movies_df = pd.merge(ratings_df, movies_df, on='movieId', how='inner')\n",
    "\n",
    "# Merge with tags to include movie tags for content-based filtering\n",
    "ratings_movies_tags_df = pd.merge(ratings_movies_df, tags_df, on=['userId', 'movieId'], how='left')\n",
    "\n",
    "# Merge with links to associate external database IDs (if needed)\n",
    "final_df = pd.merge(ratings_movies_tags_df, links_df, on='movieId', how='left')\n",
    "\n",
    "# Inspect the final dataset\n",
    "print(final_df.head())\n"
   ]
  },
  {
   "cell_type": "code",
   "execution_count": 4,
   "metadata": {},
   "outputs": [
    {
     "name": "stdout",
     "output_type": "stream",
     "text": [
      "userId             0\n",
      "movieId            0\n",
      "rating             0\n",
      "timestamp_x        0\n",
      "title              0\n",
      "genres             0\n",
      "tag            99201\n",
      "timestamp_y    99201\n",
      "imdbId             0\n",
      "tmdbId            13\n",
      "dtype: int64\n"
     ]
    }
   ],
   "source": [
    "# Check for NaN values in each column\n",
    "nan_summary = final_df.isna().sum()\n",
    "print(nan_summary)"
   ]
  },
  {
   "cell_type": "code",
   "execution_count": 5,
   "metadata": {},
   "outputs": [
    {
     "name": "stdout",
     "output_type": "stream",
     "text": [
      "userId         0\n",
      "movieId        0\n",
      "rating         0\n",
      "timestamp_x    0\n",
      "title          0\n",
      "genres         0\n",
      "imdbId         0\n",
      "tmdbId         0\n",
      "dtype: int64\n"
     ]
    }
   ],
   "source": [
    "# Drop 'tag' and 'timestamp_y' columns, fill NaNs in 'tmdbId' with 0\n",
    "\n",
    "final_df.drop(columns=['tag', 'timestamp_y'], inplace=True)\n",
    "\n",
    "final_df['tmdbId'].fillna(0, inplace=True)\n",
    "\n",
    "# Check for NaN values again to confirm\n",
    "print(final_df.isna().sum())"
   ]
  },
  {
   "cell_type": "code",
   "execution_count": 6,
   "metadata": {},
   "outputs": [],
   "source": [
    "# Create a user-item matrix\n",
    "user_item_matrix = final_df.pivot_table(index='userId', columns='movieId', values='rating')\n",
    "\n",
    "# Fill NaN values with 0 (no rating)\n",
    "user_item_matrix = user_item_matrix.fillna(0)"
   ]
  },
  {
   "cell_type": "code",
   "execution_count": 7,
   "metadata": {},
   "outputs": [],
   "source": [
    "# Compute the cosine similarity matrix\n",
    "user_similarity = cosine_similarity(user_item_matrix)\n",
    "\n",
    "# Convert to a DataFrame for easier access\n",
    "user_similarity_df = pd.DataFrame(user_similarity, index=user_item_matrix.index, columns=user_item_matrix.index)"
   ]
  },
  {
   "cell_type": "code",
   "execution_count": 8,
   "metadata": {},
   "outputs": [
    {
     "name": "stdout",
     "output_type": "stream",
     "text": [
      "['Pulp Fiction (1994)' 'Pulp Fiction (1994)' 'Pulp Fiction (1994)' ...\n",
      " 'Aliens (1986)' 'Aliens (1986)' 'Aliens (1986)']\n"
     ]
    }
   ],
   "source": [
    "def get_user_based_recommendations(user_id, num_recommendations=5):\n",
    "    # Get similar users\n",
    "    similar_users = user_similarity_df[user_id].sort_values(ascending=False)[1:num_recommendations + 1].index\n",
    "\n",
    "    # Get the movies rated by similar users\n",
    "    similar_user_ratings = user_item_matrix.loc[similar_users]\n",
    "\n",
    "    # Calculate the mean rating for each movie\n",
    "    mean_ratings = similar_user_ratings.mean(axis=0)\n",
    "\n",
    "    # Get the top movie recommendations\n",
    "    recommended_movies = mean_ratings.sort_values(ascending=False).head(num_recommendations)\n",
    "\n",
    "    # Return the recommended movie titles\n",
    "    return final_df[final_df['movieId'].isin(recommended_movies.index)]['title'].values\n",
    "\n",
    "# Example: Get recommendations for user ID 1\n",
    "print(get_user_based_recommendations(1))\n"
   ]
  },
  {
   "cell_type": "code",
   "execution_count": 11,
   "metadata": {},
   "outputs": [
    {
     "name": "stdout",
     "output_type": "stream",
     "text": [
      "36            Toy Story (1995)\n",
      "237    Grumpier Old Men (1995)\n",
      "256    Grumpier Old Men (1995)\n",
      "304                Heat (1995)\n",
      "361                Heat (1995)\n",
      "Name: title, dtype: object\n"
     ]
    }
   ],
   "source": [
    "from scipy.sparse import csr_matrix\n",
    "\n",
    "sampled_df = final_df.sample(frac=0.1, random_state=42)\n",
    "tfidf = TfidfVectorizer(stop_words='english')\n",
    "tfidf_matrix = tfidf.fit_transform(sampled_df['genres'])\n",
    "cosine_sim = cosine_similarity(tfidf_matrix, tfidf_matrix)\n",
    "\n",
    "def get_content_based_recommendations(title):\n",
    "    idx = final_df[final_df['title'] == title].index[0]\n",
    "    sim_scores = list(enumerate(cosine_sim[idx]))\n",
    "    sim_scores = sorted(sim_scores, key=lambda x: x[1], reverse=True)[1:6]\n",
    "    movie_indices = [i[0] for i in sim_scores]\n",
    "    return final_df['title'].iloc[movie_indices]\n",
    "print(get_content_based_recommendations('Toy Story (1995)'))"
   ]
  },
  {
   "cell_type": "code",
   "execution_count": null,
   "metadata": {},
   "outputs": [],
   "source": []
  }
 ],
 "metadata": {
  "kernelspec": {
   "display_name": "Python 3 (ipykernel)",
   "language": "python",
   "name": "python3"
  },
  "language_info": {
   "codemirror_mode": {
    "name": "ipython",
    "version": 3
   },
   "file_extension": ".py",
   "mimetype": "text/x-python",
   "name": "python",
   "nbconvert_exporter": "python",
   "pygments_lexer": "ipython3",
   "version": "3.11.5"
  }
 },
 "nbformat": 4,
 "nbformat_minor": 2
}

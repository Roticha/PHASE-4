{
 "cells": [
  {
   "cell_type": "code",
   "execution_count": 1,
   "metadata": {},
   "outputs": [
    {
     "name": "stdout",
     "output_type": "stream",
     "text": [
      "   movieId                               title  \\\n",
      "0        1                    Toy Story (1995)   \n",
      "1        2                      Jumanji (1995)   \n",
      "2        3             Grumpier Old Men (1995)   \n",
      "3        4            Waiting to Exhale (1995)   \n",
      "4        5  Father of the Bride Part II (1995)   \n",
      "\n",
      "                                        genres  \n",
      "0  Adventure|Animation|Children|Comedy|Fantasy  \n",
      "1                   Adventure|Children|Fantasy  \n",
      "2                               Comedy|Romance  \n",
      "3                         Comedy|Drama|Romance  \n",
      "4                                       Comedy  \n",
      "   userId  movieId  rating  timestamp\n",
      "0       1        1     4.0  964982703\n",
      "1       1        3     4.0  964981247\n",
      "2       1        6     4.0  964982224\n",
      "3       1       47     5.0  964983815\n",
      "4       1       50     5.0  964982931\n",
      "   userId  movieId              tag   timestamp\n",
      "0       2    60756            funny  1445714994\n",
      "1       2    60756  Highly quotable  1445714996\n",
      "2       2    60756     will ferrell  1445714992\n",
      "3       2    89774     Boxing story  1445715207\n",
      "4       2    89774              MMA  1445715200\n",
      "   movieId  imdbId   tmdbId\n",
      "0        1  114709    862.0\n",
      "1        2  113497   8844.0\n",
      "2        3  113228  15602.0\n",
      "3        4  114885  31357.0\n",
      "4        5  113041  11862.0\n"
     ]
    }
   ],
   "source": [
    "import pandas as pd\n",
    "\n",
    "# Load the CSV files\n",
    "movies_df = pd.read_csv('ml-latest-small/movies.csv')\n",
    "ratings_df = pd.read_csv('ml-latest-small/ratings.csv')\n",
    "tags_df = pd.read_csv('ml-latest-small/tags.csv')\n",
    "links_df = pd.read_csv('ml-latest-small/links.csv')\n",
    "\n",
    "# Display the first few rows of each file to understand their structure\n",
    "print(movies_df.head())\n",
    "print(ratings_df.head())\n",
    "print(tags_df.head())\n",
    "print(links_df.head())"
   ]
  },
  {
   "cell_type": "code",
   "execution_count": 2,
   "metadata": {},
   "outputs": [
    {
     "name": "stdout",
     "output_type": "stream",
     "text": [
      "   userId  movieId  rating  timestamp_x             title  \\\n",
      "0       1        1     4.0    964982703  Toy Story (1995)   \n",
      "1       5        1     4.0    847434962  Toy Story (1995)   \n",
      "2       7        1     4.5   1106635946  Toy Story (1995)   \n",
      "3      15        1     2.5   1510577970  Toy Story (1995)   \n",
      "4      17        1     4.5   1305696483  Toy Story (1995)   \n",
      "\n",
      "                                        genres  tag  timestamp_y  imdbId  \\\n",
      "0  Adventure|Animation|Children|Comedy|Fantasy  NaN          NaN  114709   \n",
      "1  Adventure|Animation|Children|Comedy|Fantasy  NaN          NaN  114709   \n",
      "2  Adventure|Animation|Children|Comedy|Fantasy  NaN          NaN  114709   \n",
      "3  Adventure|Animation|Children|Comedy|Fantasy  NaN          NaN  114709   \n",
      "4  Adventure|Animation|Children|Comedy|Fantasy  NaN          NaN  114709   \n",
      "\n",
      "   tmdbId  \n",
      "0   862.0  \n",
      "1   862.0  \n",
      "2   862.0  \n",
      "3   862.0  \n",
      "4   862.0  \n"
     ]
    }
   ],
   "source": [
    "# Merge ratings with movies to associate ratings with movie titles\n",
    "ratings_movies_df = pd.merge(ratings_df, movies_df, on='movieId', how='inner')\n",
    "\n",
    "# Merge with tags to include movie tags for content-based filtering\n",
    "ratings_movies_tags_df = pd.merge(ratings_movies_df, tags_df, on=['userId', 'movieId'], how='left')\n",
    "\n",
    "# Merge with links to associate external database IDs (if needed)\n",
    "final_df = pd.merge(ratings_movies_tags_df, links_df, on='movieId', how='left')\n",
    "\n",
    "# Inspect the final dataset\n",
    "print(final_df.head())\n"
   ]
  },
  {
   "cell_type": "code",
   "execution_count": 3,
   "metadata": {},
   "outputs": [
    {
     "name": "stdout",
     "output_type": "stream",
     "text": [
      "Dataset merged and saved successfully!\n"
     ]
    }
   ],
   "source": [
    "# Save the merged DataFrame to a CSV file\n",
    "final_df.to_csv('final_merged_dataset.csv', index=False)\n",
    "\n",
    "print(\"Dataset merged and saved successfully!\")"
   ]
  },
  {
   "cell_type": "code",
   "execution_count": 4,
   "metadata": {},
   "outputs": [
    {
     "name": "stdout",
     "output_type": "stream",
     "text": [
      "userId             0\n",
      "movieId            0\n",
      "rating             0\n",
      "timestamp_x        0\n",
      "title              0\n",
      "genres             0\n",
      "tag            99201\n",
      "timestamp_y    99201\n",
      "imdbId             0\n",
      "tmdbId            13\n",
      "dtype: int64\n"
     ]
    }
   ],
   "source": [
    "# Check for NaN values in each column\n",
    "nan_summary = final_df.isna().sum()\n",
    "print(nan_summary)"
   ]
  },
  {
   "cell_type": "code",
   "execution_count": 6,
   "metadata": {},
   "outputs": [
    {
     "name": "stdout",
     "output_type": "stream",
     "text": [
      "userId         0\n",
      "movieId        0\n",
      "rating         0\n",
      "timestamp_x    0\n",
      "title          0\n",
      "genres         0\n",
      "imdbId         0\n",
      "tmdbId         0\n",
      "dtype: int64\n"
     ]
    }
   ],
   "source": [
    "# Drop 'tag' and 'timestamp_y' columns, fill NaNs in 'tmdbId' with 0\n",
    "\n",
    "final_df = final_df.drop('tag', axis=1)\n",
    "final_df = final_df.drop('timestamp_y', axis=1)\n",
    "\n",
    "final_df['tmdbId'] = final_df['tmdbId'].fillna(0)\n",
    "\n",
    "# Check for NaN values again to confirm\n",
    "print(final_df.isna().sum())"
   ]
  },
  {
   "cell_type": "code",
   "execution_count": 8,
   "metadata": {},
   "outputs": [
    {
     "ename": "ModuleNotFoundError",
     "evalue": "No module named 'surprise'",
     "output_type": "error",
     "traceback": [
      "\u001b[1;31m---------------------------------------------------------------------------\u001b[0m",
      "\u001b[1;31mModuleNotFoundError\u001b[0m                       Traceback (most recent call last)",
      "Cell \u001b[1;32mIn[8], line 1\u001b[0m\n\u001b[1;32m----> 1\u001b[0m \u001b[38;5;28;01mfrom\u001b[39;00m \u001b[38;5;21;01msurprise\u001b[39;00m \u001b[38;5;28;01mimport\u001b[39;00m Reader, Dataset, SVD\n\u001b[0;32m      2\u001b[0m \u001b[38;5;28;01mfrom\u001b[39;00m \u001b[38;5;21;01msurprise\u001b[39;00m\u001b[38;5;21;01m.\u001b[39;00m\u001b[38;5;21;01mmodel_selection\u001b[39;00m \u001b[38;5;28;01mimport\u001b[39;00m train_test_split\n\u001b[0;32m      3\u001b[0m \u001b[38;5;28;01mfrom\u001b[39;00m \u001b[38;5;21;01msurprise\u001b[39;00m \u001b[38;5;28;01mimport\u001b[39;00m accuracy\n",
      "\u001b[1;31mModuleNotFoundError\u001b[0m: No module named 'surprise'"
     ]
    }
   ],
   "source": [
    "from surprise import Reader, Dataset, SVD\n",
    "from surprise.model_selection import train_test_split\n",
    "from surprise import accuracy\n",
    "\n",
    "# Prepare the data for collaborative filtering\n",
    "reader = Reader(rating_scale=(0.5, 5.0))\n",
    "data = Dataset.load_from_df(final_df[['userId', 'movieId', 'rating']], reader)\n",
    "\n",
    "# Split the data into train and test sets\n",
    "trainset, testset = train_test_split(data, test_size=0.25)\n",
    "\n",
    "# Use SVD for collaborative filtering\n",
    "svd = SVD()\n",
    "svd.fit(trainset)\n",
    "\n",
    "# Test the model\n",
    "predictions = svd.test(testset)\n",
    "\n",
    "# Evaluate the model using RMSE\n",
    "accuracy.rmse(predictions)"
   ]
  },
  {
   "cell_type": "code",
   "execution_count": null,
   "metadata": {},
   "outputs": [],
   "source": []
  }
 ],
 "metadata": {
  "kernelspec": {
   "display_name": "Python 3 (ipykernel)",
   "language": "python",
   "name": "python3"
  },
  "language_info": {
   "codemirror_mode": {
    "name": "ipython",
    "version": 3
   },
   "file_extension": ".py",
   "mimetype": "text/x-python",
   "name": "python",
   "nbconvert_exporter": "python",
   "pygments_lexer": "ipython3",
   "version": "3.11.5"
  }
 },
 "nbformat": 4,
 "nbformat_minor": 2
}
